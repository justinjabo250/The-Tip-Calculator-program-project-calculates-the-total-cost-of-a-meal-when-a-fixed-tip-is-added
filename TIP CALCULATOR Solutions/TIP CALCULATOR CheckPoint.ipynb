{
 "cells": [
  {
   "cell_type": "code",
   "execution_count": null,
   "id": "6186e3a7",
   "metadata": {},
   "outputs": [],
   "source": [
    "import colorama\n",
    "from colorama import Fore, Back, Style\n",
    "colorama.init(autoreset=True) \n",
    "\n",
    "# Add System title\n",
    "# ask the user to enter the charge for the food: input() methode\n",
    "# variables declaration and caluculations\n",
    "# calculate the amounts of an 18 percent tip(18% of the food charges)\n",
    "# calucate sales tax -> 7% of the food_Charge)\n",
    "# calucate Grand Total -> food Charge + tip + sales tax\n",
    "# Display each of these amounts-> sytem output result print()/output\n",
    "\n",
    "print(f\"{Fore.RED}{Back.BLUE}\\u0332\".join('\\nASANKA HOTEL RESTUARANT'))\n",
    "\n",
    "food_Charge= float (input('\\nPLEASE ENTER FOOD CHARGE:..$ '))\n",
    "\n",
    "\n",
    "tip = 0.18 * food_Charge\n",
    "\n",
    "sales_tax = round (0.07 * food_Charge, 2)\n",
    "\n",
    "Total_Bill = food_Charge + tip + sales_tax\n",
    "\n",
    "\n",
    "print(Style.BRIGHT + \"\\nFood Charge is :$\", str(food_Charge))\n",
    "\n",
    "print (Style.BRIGHT + \"Tip is :$ \", str (tip))\n",
    "\n",
    "print(Style.BRIGHT + \"Sales Tax Is:$\" , str(sales_tax))\n",
    "\n",
    "print (f\"{Fore.RED}{Back.BLUE}\\nGRAND TOTAL:$ \", str(Total_Bill))\n",
    "print('\\n')"
   ]
  }
 ],
 "metadata": {
  "kernelspec": {
   "display_name": "Python 3 (ipykernel)",
   "language": "python",
   "name": "python3"
  },
  "language_info": {
   "codemirror_mode": {
    "name": "ipython",
    "version": 3
   },
   "file_extension": ".py",
   "mimetype": "text/x-python",
   "name": "python",
   "nbconvert_exporter": "python",
   "pygments_lexer": "ipython3",
   "version": "3.10.8"
  }
 },
 "nbformat": 4,
 "nbformat_minor": 5
}
